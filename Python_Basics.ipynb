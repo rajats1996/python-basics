{
  "nbformat": 4,
  "nbformat_minor": 0,
  "metadata": {
    "colab": {
      "provenance": []
    },
    "kernelspec": {
      "name": "python3",
      "display_name": "Python 3"
    },
    "language_info": {
      "name": "python"
    }
  },
  "cells": [
    {
      "cell_type": "markdown",
      "source": [
        "**THEORY QUESTIONS**\n",
        "\n",
        "1.   What is Python, and why is it popular?\n",
        "Answer - Python is a programming language that's popular because it's easy to learn, versatile, and has many libraries. It's used for many applications, including web development, data science, and machine learning.\n",
        "Why Python is popular?\n",
        "Easy to learn: Python has a simple syntax that's accessible to beginners.\n",
        "Versatile: Python can be used to create many different types of programs.\n",
        "Large libraries: Python has many libraries and frameworks that can save time and effort.\n",
        "Cross-platform: Python can run on many different platforms.\n",
        "Supported by big companies: Companies like Google, Netflix, Uber, and Dropbox use Python.\n",
        "Used in many fields: Python is used in web development, data science, machine learning, scientific computing, and more.\n",
        "\n",
        "2.    What is an interpreter in Python*\n",
        "Answer - A Python interpreter is a program that directly executes Python code line-by-line, translating each instruction into machine code that the computer can understand, allowing you to run Python code without needing to first compile it into an executable file; essentially, it acts as a translator between your Python code and the computer's hardware.\n",
        "\n",
        "3.   What are predefined keywords in Python?\n",
        "Answer - Predefined keywords in Python are words that have a specific meaning and are reserved for use in Python programs. They cannot be used as variable names.\n",
        "Examples of Python keywords\n",
        "True: A keyword that represents the value true\n",
        "False: A keyword that represents the value false\n",
        "None: A keyword that represents the value none\n",
        "And: A keyword that represents the logical operator \"and\"\n",
        "As: A keyword that can be used in Python programs\n",
        "Assert: A keyword that can be used in Python programs\n",
        "Async: A keyword that can be used in Python programs\n",
        "Elif: Short for \"else if\", this keyword is used when the first if statement is not true\n",
        "If: A keyword that can be used in Python programs\n",
        "Else: A keyword that can be used in Python programs\n",
        "Except: A keyword that can be used in Python programs\n",
        "Pass: A keyword that can be used in Python programs\n",
        "Break: A keyword that can be used in Python programs\n",
        "\n",
        "4.   Can keywords be used as variable names*\n",
        "Answer - No, keywords cannot be used as variable names because they have special meanings and purposes in a programming language. Keywords are also known as reserved words.\n",
        "\n",
        "5.   What is mutability in Python*\n",
        "Answer - In Python, mutability is the ability of an object to change after it has been created. Mutable objects can be modified in terms of their state or contents.\n",
        "Examples of mutable objects\n",
        "Lists\n",
        "You can add, remove, or change elements in a list. For example, you can use the append() method to add an element to the end of a list.\n",
        "Dictionaries\n",
        "You can add key-value pairs to a dictionary. For example, you can use the my_dict[4] = 'guava' statement to add a new key-value pair to a dictionary.\n",
        "\n",
        "6.   Why are lists mutable, but tuples are immutable?\n",
        "Answer - Tuples and lists are the same in every way except two: tuples use parentheses instead of square brackets, and the items in tuples cannot be modified (but the items in lists can be modified). We often call lists mutable (meaning they can be changed) and tuples immutable (meaning they cannot be changed).\n",
        "\n",
        "7.   What is the difference between \"==\" and \"is\" operators in Python?\n",
        "Answer - In Python, the == operator compares the values of two objects, while the is operator compares whether two variables point to the same object.\n",
        "Explanation\n",
        "==\n",
        "The equality operator compares the values of two objects. For example, if you compare two cats with the == operator, you'll get the answer \"both cats are equal\".\n",
        "is\n",
        "The identity operator compares whether two variables point to the same object in memory. For example, if you compare two cats with the is operator, you'll get the answer \"these are two different cats\".\n",
        "\n",
        "8.  What are logical operators in Python*\n",
        "Answer - Logical operators in Python are symbols or words that combine multiple conditions into a single boolean expression. The three types of logical operators in Python are:\n",
        "And: Returns True if both conditions are true, and False otherwise\n",
        "Or: Combines multiple conditions\n",
        "Not: Inverts the truth value of a Boolean expression or object\n",
        "\n",
        "9.   What is type casting in Python*\n",
        "Answer - Type casting, also known as type conversion, is the process of changing a variable's data type to another data type in Python. It's a useful feature for making Python code more versatile and ensuring compatibility between different data types.\n",
        "\n",
        "10.   What is the difference between implicit and explicit type casting?\n",
        "Answer - Implicit\n",
        "Python automatically converts one data type to another without the programmer's instruction. This usually happens when performing operations on mixed data types.\n",
        "Explicit\n",
        "The programmer explicitly converts one data type to another using functions or methods.\n",
        "\n",
        "11.  What is the purpose of conditional statements in Python?\n",
        "Answer - Conditional statements in Python control the flow of a program by deciding which parts of the code to run based on certain conditions. They help make programs more efficient and easier to read.\n",
        "How they work\n",
        "Conditional statements evaluate a condition\n",
        "If the condition is true, the code block associated with that condition is executed\n",
        "If the condition is false, the code block is not executed\n",
        "\n",
        "12.  How does the elif statement work*\n",
        "Answer - The “elif” keyword in Python, stands for “else if”. It can be used in conditional statements to check for multiple conditions. For example, if the first condition is false, it moves on to the next “elif” statement to check if that condition is true.\n",
        "\n",
        "13.     What is the difference between for and while loops*\n",
        "Answer - The main difference between a for loop and a while loop is the number of times the code is repeated. A for loop is used when the number of iterations is known, while a while loop is used when the number of iterations is unknown.\n",
        "\n",
        "14.     Describe a scenario where a while loop is more suitable than a for loop.\n",
        "Answer - Example Scenario:\n",
        "Scenario: You are building a system that repeatedly prompts a user to enter a valid password until they get it right. The number of attempts is not fixed — it could be any number of attempts until the user succeeds.\n",
        "python\n",
        "password = \"correct123\"\n",
        "user_input = \"\"\n",
        "attempts = 0\n",
        "\n",
        "while user_input != password:\n",
        "    user_input = input(\"Enter your password: \")\n",
        "    attempts += 1\n",
        "    if attempts >= 3:\n",
        "        print(\"Too many failed attempts.\")\n",
        "        break\n",
        "\n",
        "print(\"Access granted!\")\n"
      ],
      "metadata": {
        "id": "D7nd6Q5vpv6J"
      }
    },
    {
      "cell_type": "markdown",
      "source": [
        "**PRACTICAL QUESTIONS**"
      ],
      "metadata": {
        "id": "pJRgwuOSqP-a"
      }
    },
    {
      "cell_type": "code",
      "source": [
        "#Write a Python program to print \"Hello, World!\"\n",
        "print(\"hello world\")"
      ],
      "metadata": {
        "colab": {
          "base_uri": "https://localhost:8080/"
        },
        "id": "kAZW-NXZRn7_",
        "outputId": "ecd4ae91-27a4-45ce-9ea6-7f8951c537cd"
      },
      "execution_count": null,
      "outputs": [
        {
          "output_type": "stream",
          "name": "stdout",
          "text": [
            "hello world\n"
          ]
        }
      ]
    },
    {
      "cell_type": "code",
      "source": [
        "#Write a Python program that displays your name and age\n",
        "print(\"My name is Rajat Shikhar and I am 28 Years old\")"
      ],
      "metadata": {
        "colab": {
          "base_uri": "https://localhost:8080/"
        },
        "id": "9bt038F1SFqH",
        "outputId": "391e3e7b-0b04-439e-bb87-e35344b14dfe"
      },
      "execution_count": null,
      "outputs": [
        {
          "output_type": "stream",
          "name": "stdout",
          "text": [
            "My name is Rajat Shikhar and I am 28 Years old\n"
          ]
        }
      ]
    },
    {
      "cell_type": "code",
      "source": [
        "#Write code to print all the pre—defined keywords in Python using the keyword library.\n",
        "import keyword\n",
        "print(keyword.kwlist)"
      ],
      "metadata": {
        "colab": {
          "base_uri": "https://localhost:8080/"
        },
        "id": "5PHMdODtR1h8",
        "outputId": "bc4ce137-1f5a-44cf-ca9f-b045b09a1e2d"
      },
      "execution_count": null,
      "outputs": [
        {
          "output_type": "stream",
          "name": "stdout",
          "text": [
            "['False', 'None', 'True', 'and', 'as', 'assert', 'async', 'await', 'break', 'class', 'continue', 'def', 'del', 'elif', 'else', 'except', 'finally', 'for', 'from', 'global', 'if', 'import', 'in', 'is', 'lambda', 'nonlocal', 'not', 'or', 'pass', 'raise', 'return', 'try', 'while', 'with', 'yield']\n"
          ]
        }
      ]
    },
    {
      "cell_type": "code",
      "source": [
        "# Write a program that checks if a given word is a Python keyword\n",
        "import keyword\n",
        "\n",
        "s = 'while'\n",
        "\n",
        "# check if it's a python keyword\n",
        "if keyword.iskeyword(s):\n",
        "  print(f\"'{s}' is a Python keyword\") # Indentation fixed to 4 spaces\n",
        "else:\n",
        "    print(f\"{s}' is not a Python keyword.\")"
      ],
      "metadata": {
        "colab": {
          "base_uri": "https://localhost:8080/"
        },
        "id": "gnWEKUNpSkoC",
        "outputId": "d5e89d4e-0ee2-4f72-90f6-e0f30a506edc"
      },
      "execution_count": null,
      "outputs": [
        {
          "output_type": "stream",
          "name": "stdout",
          "text": [
            "'while' is a Python keyword\n"
          ]
        }
      ]
    },
    {
      "cell_type": "code",
      "source": [
        "#Create a list and tuple in Python, and demonstrate how attempting to change on element works differently for each.\n",
        "#creating a list\n",
        "my_list = [1,2,3,4,5]\n",
        "\n",
        "#changing an element in the list\n",
        "my_list[2] = 100 # changing the third element (index 2)\n",
        "print(my_list)\n",
        "\n",
        "#creating a tuple\n",
        "my_tuple = [1,2,3,4,5]\n",
        "\n",
        "#trying to change an element in the tuple\n",
        "try:\n",
        "  my_tuple[2] = 100 # this will raise an error\n",
        "except TypeError as e:\n",
        "  print(f\"Error: {e}\")"
      ],
      "metadata": {
        "colab": {
          "base_uri": "https://localhost:8080/"
        },
        "id": "vTPP1eIaUVt4",
        "outputId": "065ce346-1bd5-441b-a55b-68b315c8e199"
      },
      "execution_count": null,
      "outputs": [
        {
          "output_type": "stream",
          "name": "stdout",
          "text": [
            "[1, 2, 100, 4, 5]\n"
          ]
        }
      ]
    },
    {
      "cell_type": "code",
      "source": [
        "#  Write a function to demonstrate the behavior of mutable and immutable arguments\n",
        "def modify_arguments(mutable_arg, immutable_arg):\n",
        "  print(\"before modification:\")\n",
        "  print(f\"mutable argument: {mutable_arg}\")\n",
        "  print(f\"immutable argument: {immutable_arg}\")\n",
        "\n",
        "  #modifying the mutable argument (a list)\n",
        "  mutable_arg.append(100)\n",
        "\n",
        "  #attempting to modify the immutable argument (an integer)\n",
        "  immutable_arg += 10\n",
        "\n",
        "  print(\"\\nAfter modification:\")\n",
        "  print(f\"mutable argument (modified): {mutable_arg}\")\n",
        "  print(f\"immutable argument (modified): {immutable_arg}\")\n",
        "\n",
        "  #testing the function\n",
        "  my_list = [1,2,3]\n",
        "  my_integer = 10\n",
        "\n",
        "  modify_arguments(my_list, my_integer)\n",
        "\n",
        "  # output the original arguments after function call\n",
        "  print(\"nOutside function:\")\n",
        "  print(f\"Original list: {my_list}\") #list should be modified\n",
        "  print(f\"Original integer: {my_integer}\") #Integer should be modified"
      ],
      "metadata": {
        "id": "BwamsLjyWB3t"
      },
      "execution_count": null,
      "outputs": []
    },
    {
      "cell_type": "code",
      "source": [
        "# Write a program to demonstrate the use of logical operators\n",
        "\n",
        "# define some variables\n",
        "age = 25\n",
        "is_student = False\n",
        "has_passport = True\n",
        "\n",
        "# use of 'and' operator\n",
        "if age > 18 and is_student:\n",
        "  print(\"The person is an adult and a student.\")\n",
        "else:\n",
        "  print(\"Either the person is not an adult or not a student.\")\n",
        "\n",
        "# use of 'or' operator\n",
        "if age > 18 or has_passport:\n",
        "  print(\"The person is an adult or has a passport.\")\n",
        "else:\n",
        "  print(\"This person is neither an adult nor has a passport.\")\n",
        "\n",
        "# use of 'not' operator\n",
        "if not is_student:\n",
        "  print(\"The person is not a student.\")\n",
        "else:\n",
        "    print(\"The person is a student.\")\n",
        "\n",
        "# combining logical operators\n",
        "if (age > 18 or has_passport) and not is_student:\n",
        "  print(\"The person is an adult (or has a passport) and is not a student.\")\n",
        "else:\n",
        "  print(\"The person is either underage or is a student.\")"
      ],
      "metadata": {
        "colab": {
          "base_uri": "https://localhost:8080/"
        },
        "id": "L3SDgi41tI57",
        "outputId": "ecb30e9d-573c-4934-a55c-1f2780bc3644"
      },
      "execution_count": null,
      "outputs": [
        {
          "output_type": "stream",
          "name": "stdout",
          "text": [
            "Either the person is not an adult or not a student.\n",
            "The person is an adult or has a passport.\n",
            "The person is not a student.\n",
            "The person is an adult (or has a passport) and is not a student.\n"
          ]
        }
      ]
    },
    {
      "cell_type": "code",
      "source": [
        "# Write a Python program to convert user input from string to integer, float, and boolean types\n",
        "\n",
        "# take user input\n",
        "user_input = input(\"Enter a value: \")\n",
        "\n",
        "# convert to integer\n",
        "try:\n",
        "  int_value = int(user_output)\n",
        "  print(f\"integer value:{int_value}\")\n",
        "except ValueError:\n",
        "    print(\"cannot convert to integer.\")\n",
        "\n",
        "# convert to float\n",
        "try:\n",
        "  float_value = float(user_input)\n",
        "  print(f\"float value : {float_value}\")\n",
        "except ValueError:\n",
        "    print(\"cannot convert to float.\")\n",
        "\n",
        "# convert to boolean\n",
        "# Non - empty strings are treated as true, except \"false\" (case-insensitive)\n",
        "bool_value = user_input.strip().lower() not in [\"\", \"false\",\"0\"]\n",
        "print(f\"boolean value: {bool_value}\")"
      ],
      "metadata": {
        "id": "Lslspjwkwd6e"
      },
      "execution_count": null,
      "outputs": []
    },
    {
      "cell_type": "code",
      "source": [
        "# Write code to demonstrate type casting with list elements\n",
        "# sample list with mixed types as strings\n",
        "data_list = [\"42\", \"3.14\", \"True\", \"0\", \"Hello\"]\n",
        "\n",
        "# demonstrate type casting\n",
        "int_list = []\n",
        "float_list = []\n",
        "bool_list = []\n",
        "\n",
        "print(\"Original List:\", data_list)\n",
        "\n",
        "for item in data_list:\n",
        "  #convert to integer if possible\n",
        "  try:\n",
        "    int_value = int(item)\n",
        "    int_list.append(int_value)\n",
        " except ValueError:\n",
        "    int_list.append(\"N/A\")\n",
        "    # convert to float if possible\n",
        "    try:\n",
        "      float_value = float(item)\n",
        "      float_list.append(float_value)\n",
        "  except ValueError:\n",
        "    float_list.append(\"N/A\")\n",
        "\n",
        "# convert to boolean (non-empty and not \"false\" or \"0\" are treated as \"True\")\n",
        "bool_value = item.strip() not in [\"\", \"False\", \"0\"]\n",
        "bool_list.append(bool_value)\n",
        "\n",
        "# Display the results\n",
        "print(\"Integer List:\", int_list)\n",
        "print(\"Float List:\", float_list)\n",
        "print(\"Boolean List:\", bool_list)"
      ],
      "metadata": {
        "id": "QR7UuyA7Opez"
      },
      "execution_count": null,
      "outputs": []
    },
    {
      "cell_type": "code",
      "source": [
        "# Write a program that checks if a number is positive, negative, or zero\n",
        "# Get user input\n",
        "number = float(input(\"Enter a number\"))\n",
        "\n",
        "# check if the number is positive, negative or zero\n",
        "if number > 0:\n",
        "  print(\"the number is positive.\")\n",
        "  elif number < 0:\n",
        "    print(\"the number is negative.\")\n",
        "    else:\n",
        "      print(\"the number is zero\")"
      ],
      "metadata": {
        "id": "gnEGM-PaSR0O"
      },
      "execution_count": null,
      "outputs": []
    },
    {
      "cell_type": "code",
      "source": [
        "# Write a for loop to print numbers from 1 to 10\n",
        "for i in range(1,11):\n",
        "  print(i)"
      ],
      "metadata": {
        "id": "9dqbtbyMTUqu"
      },
      "execution_count": null,
      "outputs": []
    },
    {
      "cell_type": "code",
      "source": [
        "#  Write a Python program to find the sum of all even numbers between 1 and 50\n",
        "# initialize sum variable\n",
        "sum_even = 0\n",
        "\n",
        "for num in range(1,51):\n",
        "  if num % 2 == 0\n",
        "  sum_even += num\n",
        "\n",
        "print(\"the sum of all numbers between 1 and 50:\", sum_even)"
      ],
      "metadata": {
        "id": "2wuD-fRvUJS2"
      },
      "execution_count": null,
      "outputs": []
    },
    {
      "cell_type": "code",
      "source": [
        "#  Write a program to reverse a string using a while loop\n",
        "# take input from the user\n",
        "text = input(\"Enter a string: \")\n",
        "reversed_text = \"\"\n",
        "index = len(text) - 1\n",
        "\n",
        "while index >= 0:\n",
        "  reversed_text += text[index]\n",
        "  index -= 1\n",
        "\n",
        "print(\"Reversed string:\", reversed_text)"
      ],
      "metadata": {
        "id": "NJvW8ws-VKjM"
      },
      "execution_count": null,
      "outputs": []
    },
    {
      "cell_type": "code",
      "source": [
        "#  Write a Python program to calculate the factorial of a number provided by the user using a while loop\n",
        "# take input from the user\n",
        "text = int(input(\"Enter a number to calculate its factorial: \"))\n",
        "\n",
        "# handle edge cases\n",
        "if number < 0:\n",
        "  print(\"Factorial doesn't exist for negative numbers.\")\n",
        "  elif number == 0:\n",
        "    print(\"The factorial of 0 is 1.\")\n",
        "    else:\n",
        "      factorial = 1\n",
        "      i = 1\n",
        "      while i <= number:\n",
        "        factorial *= i\n",
        "        i += 1\n",
        "        print(f\"the factorial of {number} is {factorial}\")"
      ],
      "metadata": {
        "id": "4QNDpJMjV_fp"
      },
      "execution_count": null,
      "outputs": []
    }
  ]
}